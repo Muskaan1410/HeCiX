{
  "cells": [
    {
      "cell_type": "code",
      "execution_count": 1,
      "metadata": {
        "colab": {
          "base_uri": "https://localhost:8080/"
        },
        "id": "FfEYrxNYqmMy",
        "outputId": "f7816f91-805c-4381-bd5c-3c6ffcb9f0d4"
      },
      "outputs": [
        {
          "name": "stdout",
          "output_type": "stream",
          "text": [
            "\u001b[2K     \u001b[90m━━━━━━━━━━━━━━━━━━━━━━━━━━━━━━━━━━━━━━━━\u001b[0m \u001b[32m2.3/2.3 MB\u001b[0m \u001b[31m18.0 MB/s\u001b[0m eta \u001b[36m0:00:00\u001b[0m\n",
            "\u001b[2K     \u001b[90m━━━━━━━━━━━━━━━━━━━━━━━━━━━━━━━━━━━━━━━━\u001b[0m \u001b[32m46.7/46.7 kB\u001b[0m \u001b[31m2.5 MB/s\u001b[0m eta \u001b[36m0:00:00\u001b[0m\n",
            "\u001b[2K     \u001b[90m━━━━━━━━━━━━━━━━━━━━━━━━━━━━━━━━━━━━━━━━\u001b[0m \u001b[32m293.5/293.5 kB\u001b[0m \u001b[31m20.1 MB/s\u001b[0m eta \u001b[36m0:00:00\u001b[0m\n",
            "\u001b[2K     \u001b[90m━━━━━━━━━━━━━━━━━━━━━━━━━━━━━━━━━━━━━━━━\u001b[0m \u001b[32m990.0/990.0 kB\u001b[0m \u001b[31m33.3 MB/s\u001b[0m eta \u001b[36m0:00:00\u001b[0m\n",
            "\u001b[2K     \u001b[90m━━━━━━━━━━━━━━━━━━━━━━━━━━━━━━━━━━━━━━━━\u001b[0m \u001b[32m373.5/373.5 kB\u001b[0m \u001b[31m25.0 MB/s\u001b[0m eta \u001b[36m0:00:00\u001b[0m\n",
            "\u001b[2K     \u001b[90m━━━━━━━━━━━━━━━━━━━━━━━━━━━━━━━━━━━━━━━━\u001b[0m \u001b[32m139.8/139.8 kB\u001b[0m \u001b[31m7.1 MB/s\u001b[0m eta \u001b[36m0:00:00\u001b[0m\n",
            "\u001b[2K     \u001b[90m━━━━━━━━━━━━━━━━━━━━━━━━━━━━━━━━━━━━━━━━\u001b[0m \u001b[32m328.8/328.8 kB\u001b[0m \u001b[31m23.1 MB/s\u001b[0m eta \u001b[36m0:00:00\u001b[0m\n",
            "\u001b[2K     \u001b[90m━━━━━━━━━━━━━━━━━━━━━━━━━━━━━━━━━━━━━━━━\u001b[0m \u001b[32m1.1/1.1 MB\u001b[0m \u001b[31m12.8 MB/s\u001b[0m eta \u001b[36m0:00:00\u001b[0m\n",
            "\u001b[2K     \u001b[90m━━━━━━━━━━━━━━━━━━━━━━━━━━━━━━━━━━━━━━━━\u001b[0m \u001b[32m49.2/49.2 kB\u001b[0m \u001b[31m3.2 MB/s\u001b[0m eta \u001b[36m0:00:00\u001b[0m\n",
            "\u001b[2K     \u001b[90m━━━━━━━━━━━━━━━━━━━━━━━━━━━━━━━━━━━━━━━━\u001b[0m \u001b[32m141.1/141.1 kB\u001b[0m \u001b[31m1.9 MB/s\u001b[0m eta \u001b[36m0:00:00\u001b[0m\n",
            "\u001b[2K     \u001b[90m━━━━━━━━━━━━━━━━━━━━━━━━━━━━━━━━━━━━━━━━\u001b[0m \u001b[32m75.6/75.6 kB\u001b[0m \u001b[31m3.7 MB/s\u001b[0m eta \u001b[36m0:00:00\u001b[0m\n",
            "\u001b[2K     \u001b[90m━━━━━━━━━━━━━━━━━━━━━━━━━━━━━━━━━━━━━━━━\u001b[0m \u001b[32m77.9/77.9 kB\u001b[0m \u001b[31m6.5 MB/s\u001b[0m eta \u001b[36m0:00:00\u001b[0m\n",
            "\u001b[2K     \u001b[90m━━━━━━━━━━━━━━━━━━━━━━━━━━━━━━━━━━━━━━━━\u001b[0m \u001b[32m58.3/58.3 kB\u001b[0m \u001b[31m3.1 MB/s\u001b[0m eta \u001b[36m0:00:00\u001b[0m\n",
            "\u001b[?25h"
          ]
        }
      ],
      "source": [
        "!pip install --upgrade --quiet langchain-community langchain-openai neo4j"
      ]
    },
    {
      "cell_type": "code",
      "execution_count": 2,
      "metadata": {
        "id": "a9p05ZGAuE6H"
      },
      "outputs": [],
      "source": [
        "import os\n",
        "\n",
        "# os.environ[\"OPENAI_API_KEY\"] = \"\"\n",
        "# os.environ[\"NEO4J_URI\"] = \"\"\n",
        "# os.environ[\"NEO4J_USERNAME\"] = \"\"\n",
        "# os.environ[\"NEO4J_PASSWORD\"] = \"\""
      ]
    },
    {
      "cell_type": "code",
      "execution_count": 3,
      "metadata": {
        "colab": {
          "base_uri": "https://localhost:8080/"
        },
        "id": "c06acJ61zfZi",
        "outputId": "cd6f3f27-9d97-4b88-cfca-9e8450d881c1"
      },
      "outputs": [
        {
          "name": "stdout",
          "output_type": "stream",
          "text": [
            "Requirement already satisfied: pandas in /usr/local/lib/python3.10/dist-packages (2.0.3)\n",
            "Requirement already satisfied: python-dateutil>=2.8.2 in /usr/local/lib/python3.10/dist-packages (from pandas) (2.8.2)\n",
            "Requirement already satisfied: pytz>=2020.1 in /usr/local/lib/python3.10/dist-packages (from pandas) (2023.4)\n",
            "Requirement already satisfied: tzdata>=2022.1 in /usr/local/lib/python3.10/dist-packages (from pandas) (2024.1)\n",
            "Requirement already satisfied: numpy>=1.21.0 in /usr/local/lib/python3.10/dist-packages (from pandas) (1.25.2)\n",
            "Requirement already satisfied: six>=1.5 in /usr/local/lib/python3.10/dist-packages (from python-dateutil>=2.8.2->pandas) (1.16.0)\n"
          ]
        }
      ],
      "source": [
        "!pip install pandas"
      ]
    },
    {
      "cell_type": "code",
      "execution_count": 5,
      "metadata": {
        "id": "Hf5cPZ0Z1ZZx"
      },
      "outputs": [],
      "source": [
        "from langchain_community.graphs import Neo4jGraph\n",
        "\n",
        "graph = Neo4jGraph(\n",
        "    url=r\"url\",\n",
        "    username=\"username\",\n",
        "    password=r\"password\",\n",
        ")"
      ]
    },
    {
      "cell_type": "code",
      "execution_count": 6,
      "metadata": {
        "colab": {
          "base_uri": "https://localhost:8080/"
        },
        "id": "snzfhmaL_L1c",
        "outputId": "0c5be310-2fc0-4b7e-d29c-8442082d880e"
      },
      "outputs": [
        {
          "name": "stdout",
          "output_type": "stream",
          "text": [
            "Node properties:\n",
            "Disease {identifier: STRING, kind: STRING, name: STRING}\n",
            "Gene {identifier: INTEGER, kind: STRING, name: STRING, source: STRING, license: STRING, url: STRING, description: STRING, chromosome: STRING}\n",
            "Anatomy {identifier: STRING, kind: STRING, name: STRING, source: STRING, license: STRING, url: STRING}\n",
            "Compound {identifier: STRING, kind: STRING, name: STRING, source: STRING, license: STRING, url: STRING}\n",
            "Symptom {identifier: STRING, kind: STRING, name: STRING, source: STRING, license: STRING, url: STRING}\n",
            "Pathway {identifier: STRING, kind: STRING, name: STRING, source: STRING, license: STRING, url: STRING}\n",
            "Molecular Function {identifier: STRING, kind: STRING, name: STRING, source: STRING, license: STRING, url: STRING}\n",
            "Cellular Component {identifier: STRING, kind: STRING, name: STRING, source: STRING, license: STRING, url: STRING}\n",
            "Biological Process {identifier: STRING, kind: STRING, name: STRING, source: STRING, license: STRING, url: STRING}\n",
            "Principal Investigators {Principal Investigators 1: STRING, Principal Investigators 2: STRING, Principal Investigators 3: STRING}\n",
            "Conditions {Conditions 3: STRING, Conditions 4: STRING, Conditions 5: STRING, Conditions 2: STRING, Conditions 1: STRING}\n",
            "Study {Study URL: STRING, Study Results: STRING, Study_Title: STRING, NCT Number: STRING, Study Title: STRING}\n",
            "Phases {Phases: STRING}\n",
            "Interventions {Interventions 1: STRING, Interventions 3: STRING, Interventions 4: STRING, Interventions 5: STRING, Interventions 2: STRING}\n",
            "Locations {Locations 1: STRING, Locations 2: STRING, Locations 3: STRING}\n",
            "Age {Age: STRING}\n",
            "Sex {Sex: STRING}\n",
            "Relationship properties:\n",
            "downregulates {start_id: STRING, end_id: STRING, relationship_type: STRING, direction: STRING}\n",
            "upregulates {start_id: STRING, end_id: STRING, relationship_type: STRING, direction: STRING}\n",
            "associates {start_id: STRING, end_id: STRING, relationship_type: STRING, direction: STRING}\n",
            "localizes {start_id: STRING, end_id: STRING, relationship_type: STRING, direction: STRING}\n",
            "presents {start_id: STRING, end_id: STRING, relationship_type: STRING, direction: STRING}\n",
            "resembles {start_id: STRING, end_id: STRING, relationship_type: STRING, direction: STRING}\n",
            "expresses {start_id: STRING, end_id: STRING, relationship_type: STRING, direction: STRING}\n",
            "regulates {start_id: STRING, end_id: STRING, relationship_type: STRING, direction: STRING}\n",
            "interacts {start_id: STRING, end_id: STRING, relationship_type: STRING, direction: STRING}\n",
            "covaries {start_id: STRING, end_id: STRING, relationship_type: STRING, direction: STRING}\n",
            "treats {start_id: STRING, end_id: STRING, relationship_type: STRING, direction: STRING}\n",
            "palliates {start_id: STRING, end_id: STRING, relationship_type: STRING, direction: STRING}\n",
            "The relationships:\n",
            "(:Disease)-[:downregulates]->(:Gene)\n",
            "(:Disease)-[:upregulates]->(:Gene)\n",
            "(:Disease)-[:associates]->(:Gene)\n",
            "(:Disease)-[:localizes]->(:Anatomy)\n",
            "(:Disease)-[:investigated_in]->(:Study)\n",
            "(:Disease)-[:studied_by]->(:Principal Investigators)\n",
            "(:Disease)-[:characterized_by]->(:Conditions)\n",
            "(:Disease)-[:presents]->(:Symptom)\n",
            "(:Disease)-[:resembles]->(:Disease)\n",
            "(:Gene)-[:regulates]->(:Gene)\n",
            "(:Gene)-[:interacts]->(:Gene)\n",
            "(:Gene)-[:covaries]->(:Gene)\n",
            "(:Anatomy)-[:downregulates]->(:Gene)\n",
            "(:Anatomy)-[:upregulates]->(:Gene)\n",
            "(:Anatomy)-[:expresses]->(:Gene)\n",
            "(:Anatomy)-[:localizes]->(:Disease)\n",
            "(:Compound)-[:treats]->(:Disease)\n",
            "(:Compound)-[:palliates]->(:Disease)\n",
            "(:Study)-[:conducted_in]->(:Phases)\n",
            "(:Study)-[:tests]->(:Interventions)\n",
            "(:Study)-[:conducted_at]->(:Locations)\n",
            "(:Study)-[:includes_ages]->(:Age)\n",
            "(:Study)-[:includes_genders]->(:Sex)\n",
            "(:Study)-[:led_by]->(:Principal Investigators)\n",
            "(:Study)-[:focuses_on]->(:Conditions)\n"
          ]
        }
      ],
      "source": [
        "graph.refresh_schema()\n",
        "print(graph.schema)"
      ]
    },
    {
      "cell_type": "code",
      "execution_count": 7,
      "metadata": {
        "id": "NQ_4WEDjHNgq"
      },
      "outputs": [],
      "source": [
        "from langchain.chains import GraphCypherQAChain\n",
        "from langchain_openai import ChatOpenAI\n",
        "\n",
        "\n",
        "llm = ChatOpenAI(model=\"gpt-4-turbo\", temperature=0, openai_api_key='api_key')\n",
        "chain = GraphCypherQAChain.from_llm(graph=graph, llm=llm, verbose=True)"
      ]
    },
    {
      "cell_type": "code",
      "execution_count": 16,
      "metadata": {
        "id": "jT1KbWp0ec4q"
      },
      "outputs": [],
      "source": [
        "prompt_template = \"\"\"\n",
        "    make sure the keywords in the prompt are NOT case sensitive. make sure the labels with more than one word in the query are enclosed between ``.don't forget to return values (not keys) the result of the query. also remember to answer each question asked. make sure to pay careful attention to the directions of the relationships, while creating the cypher queries. return the full context of the returned result in human readable language.\n",
        "    disease: investigated in -> study\n",
        "    study: tests -> interventions\n",
        "    interventions are key-value pairs in string format that have the following keys: DRUG, PROCEDURE, DEVICE, BEHAVIOUR, DIAGNOSTIC_TEST, BIOLOGICAL, RADIATION, COMBINATION, PRODUCT, GENETIC, DIETARY_SUPPLEMENT, OTHER. If the query is asking about drugs, then look for the drug here.\n",
        "    disease: associates/upregulates/downregulates -> gene\n",
        "    studies: led by -> principal investigators\n",
        "    disease: studied by -> principal investigators\n",
        "    compounds: treat/palliate -> disease\n",
        "    disease: investigated in -> phase\n",
        "    phases in the knowledge graph are in capital letters with no gap between the word phase and the phase number, such as PHASE1, PHASE2, PHASE3, PHASE4\n",
        "    principal investigators in the graph are under the label 'Principal Investigators'. For questions about principal investigators, the final return statement should be 'RETURN pi'. disease is studied by principal investigators.\n",
        "    consider all relations bidirectionally\n",
        "    consider study title as `Study Title` itself. Dont put any _ between them\n",
        "\"\"\"\n",
        "\n",
        "query = 'who are the principal investigators of Vitiligo?'"
      ]
    },
    {
      "cell_type": "code",
      "execution_count": null,
      "metadata": {
        "id": "HNI8Q_q52N6z"
      },
      "outputs": [],
      "source": []
    },
    {
      "cell_type": "code",
      "execution_count": 17,
      "metadata": {
        "id": "quAs_qfmHyfP"
      },
      "outputs": [],
      "source": [
        "\n",
        "\n",
        "%%capture cellop\n",
        "response = chain.invoke({\"query\": (prompt_template+query)})\n",
        "\n",
        "# response['result']"
      ]
    },
    {
      "cell_type": "code",
      "execution_count": 18,
      "metadata": {
        "colab": {
          "base_uri": "https://localhost:8080/"
        },
        "id": "mREr40NGIBjA",
        "outputId": "2889b8b9-72eb-4218-eab1-bc8fd9f5784a"
      },
      "outputs": [
        {
          "name": "stdout",
          "output_type": "stream",
          "text": [
            "\n",
            "\n",
            "\u001b[1m> Entering new GraphCypherQAChain chain...\u001b[0m\n",
            "Generated Cypher:\n",
            "\u001b[32;1m\u001b[1;3mcypher\n",
            "MATCH (d:Disease {name: \"Vitiligo\"})-[:studied_by]->(pi:`Principal Investigators`)\n",
            "RETURN pi\n",
            "\u001b[0m\n",
            "Full Context:\n",
            "\u001b[32;1m\u001b[1;3m[{'pi': {'Principal Investigators 1': 'Pfizer .gov Call Center'}}, {'pi': {'Principal Investigators 1': 'Orest Szczurko'}}, {'pi': {'Principal Investigators 1': 'Jean-Marie Naeyaert'}}, {'pi': {'Principal Investigators 1': 'John E Harris'}}, {'pi': {'Principal Investigators 1': 'Doha S Mohamed'}}, {'pi': {'Principal Investigators 1': 'Samia Esmat'}}, {'pi': {'Principal Investigators 1': 'Julien'}}, {'pi': {'Principal Investigators 1': 'Mor Pavlovski'}}, {'pi': {'Principal Investigators 1': 'Andrew McGovern'}}, {'pi': {'Principal Investigators 1': 'Gabriella Pravatà'}}]\u001b[0m\n",
            "\n",
            "\u001b[1m> Finished chain.\u001b[0m\n",
            "cellop:  None\n",
            "parts:  \n",
            "\u001b[32;1m\u001b[1;3m[{'pi': {'Principal Investigators 1': 'Pfizer .gov Call Center'}}, {'pi': {'Principal Investigators 1': 'Orest Szczurko'}}, {'pi': {'Principal Investigators 1': 'Jean-Marie Naeyaert'}}, {'pi': {'Principal Investigators 1': 'John E Harris'}}, {'pi': {'Principal Investigators 1': 'Doha S Mohamed'}}, {'pi': {'Principal Investigators 1': 'Samia Esmat'}}, {'pi': {'Principal Investigators 1': 'Julien'}}, {'pi': {'Principal Investigators 1': 'Mor Pavlovski'}}, {'pi': {'Principal Investigators 1': 'Andrew McGovern'}}, {'pi': {'Principal Investigators 1': 'Gabriella Pravatà'}}]\u001b[0m\n",
            "\n",
            "\u001b[1m> Finished chain.\u001b[0m\n",
            "\n"
          ]
        }
      ],
      "source": [
        "print(\"cellop: \", cellop())\n",
        "\n",
        "parts = cellop.stdout.split('Full Context:')[1]\n",
        "parts\n",
        "\n",
        "print(\"parts: \", parts)"
      ]
    },
    {
      "cell_type": "code",
      "execution_count": 19,
      "metadata": {
        "id": "bejUcfxUDApb"
      },
      "outputs": [],
      "source": [
        "# response['result']"
      ]
    },
    {
      "cell_type": "code",
      "execution_count": 20,
      "metadata": {
        "colab": {
          "base_uri": "https://localhost:8080/"
        },
        "id": "ReaCR98I5EoQ",
        "outputId": "8e7b6fca-e99c-4af1-c65e-f3405bf3623c"
      },
      "outputs": [
        {
          "name": "stdout",
          "output_type": "stream",
          "text": [
            "ChatCompletionMessage(content='The principal investigators of Vitiligo include:\\n\\n1. Pfizer .gov Call Center\\n2. Orest Szczurko\\n3. Jean-Marie Naeyaert\\n4. John E Harris\\n5. Doha S Mohamed\\n6. Samia Esmat\\n7. Julien\\n8. Mor Pavlovski\\n9. Andrew McGovern\\n10. Gabriella Pravatà', role='assistant', function_call=None, tool_calls=None)\n"
          ]
        }
      ],
      "source": [
        "from openai import OpenAI\n",
        "\n",
        "OPENAI_API_KEY = 'api_key'\n",
        "client = OpenAI(api_key=OPENAI_API_KEY)\n",
        "prompt = \"I am going to give you a question I asked, and the answer to the question which I already have. If the answer is not blank, then return the answer in human readable natural language form. If the answer is blank, then explain that the query made to the knowledge graph did not return any relevant answers. Here is the question: \"+query+ \"Here is the answer: \"+parts\n",
        "\n",
        "completion = client.chat.completions.create(\n",
        "  model=\"gpt-4-turbo\",\n",
        "  messages=[\n",
        "    {\"role\": \"system\", \"content\": \"You are a clinical research assistant\"},\n",
        "    {\"role\": \"user\", \"content\": prompt}\n",
        "  ]\n",
        ")\n",
        "\n",
        "print(completion.choices[0].message)"
      ]
    },
    {
      "cell_type": "code",
      "execution_count": null,
      "metadata": {
        "id": "coD8XtRhz9kn"
      },
      "outputs": [],
      "source": []
    }
  ],
  "metadata": {
    "colab": {
      "provenance": []
    },
    "kernelspec": {
      "display_name": "Python 3",
      "name": "python3"
    },
    "language_info": {
      "name": "python"
    }
  },
  "nbformat": 4,
  "nbformat_minor": 0
}
